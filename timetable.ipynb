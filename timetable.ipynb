{
 "cells": [
  {
   "cell_type": "markdown",
   "id": "ea43301b",
   "metadata": {},
   "source": [
    "### Reading the csv file and selecting data"
   ]
  },
  {
   "cell_type": "code",
   "execution_count": 76,
   "id": "a561b1f9",
   "metadata": {},
   "outputs": [
    {
     "name": "stdout",
     "output_type": "stream",
     "text": [
      "Index(['N° da \\nTurma', 'Codigo \\nDisciplina', 'Disciplina', 'Dia da \\nsemana',\n",
      "       'Inicio', 'Termino', 'DOCENTE'],\n",
      "      dtype='object')\n"
     ]
    }
   ],
   "source": [
    "import pandas as pd\n",
    "import xlwt\n",
    "import openpyxl\n",
    "import os\n",
    "\n",
    "course_data = pd.read_csv(\"turismo-disciplinas.csv\", encoding=\"latin1\", delimiter=\";\", usecols=[2,3,4,5,6,7,8])\n",
    "print(course_data.columns)\n"
   ]
  },
  {
   "cell_type": "markdown",
   "id": "53fb59da",
   "metadata": {},
   "source": [
    "### Configuring a dictionary with course data\n",
    "Some javascript-like code here... (better - creating a class and a constructor)"
   ]
  },
  {
   "cell_type": "code",
   "execution_count": 98,
   "id": "c0577e18",
   "metadata": {},
   "outputs": [],
   "source": [
    "def config_course(course_list, course_line):\n",
    "    added = False\n",
    "    for course in course_list:\n",
    "        try:\n",
    "            if course[\"name\"] == course_line[2]:\n",
    "                course[\"times\"].append([course_line[3], [course_line[4], course_line[5]]]) \n",
    "                added = True\n",
    "                return course\n",
    "        except TypeError:\n",
    "            continue            \n",
    "        \n",
    "    if (not added):\n",
    "        new_course = {};\n",
    "        new_course[\"name\"] = course_line[2]\n",
    "        new_course[\"professor\"] = course_line[6]\n",
    "        new_course[\"times\"] = []+[[course_line[3], [course_line[4], course_line[5]]]]\n",
    "\n",
    "        course_list.append(new_course)\n",
    "        return new_course\n",
    "     "
   ]
  },
  {
   "cell_type": "markdown",
   "id": "a8642b84",
   "metadata": {},
   "source": [
    "### Printing code"
   ]
  },
  {
   "cell_type": "code",
   "execution_count": 105,
   "id": "a2d0c19b",
   "metadata": {},
   "outputs": [],
   "source": [
    "def sort_by_time(day):\n",
    "    beginTimes=[];\n",
    "    for course in day:\n",
    "        beginTimes.append([course[\"time\"], course[\"course\"][\"name\"]])\n",
    "    return sorted(beginTimes)  \n",
    "        \n",
    "def show_time_course(time_course):\n",
    "    interval = time_course[0]\n",
    "    print(interval[0][0:5],\"h - \", interval[1][0:5], \"h  => \", time_course[1])\n",
    "    \n",
    "def show_timetable():     \n",
    "    sorted_days = sorted(weekdays)\n",
    "    for day in sorted_days:\n",
    "        print(day[4:])\n",
    "        sorted_entries = sort_by_time(timetable[day])\n",
    "        for entry in sorted_entries:  \n",
    "            show_time_course(entry)    \n",
    "            \n",
    "\n",
    "def show_courses(course_list):\n",
    "    for course in course_list:\n",
    "        #print(course)\n",
    "        print(course[\"name\"])\n",
    "        print(course[\"professor\"])\n",
    "        for day in course[\"times\"]:\n",
    "            print_time_entry(day)    \n",
    "        print(\"\")\n",
    "        \n",
    "        \n",
    "def print_time_entry(day_time):\n",
    "    weekday = day_time[0][4:]\n",
    "    times = day_time[1]\n",
    "    print(\" - \", weekday, \" - \", times[0][0:6],\"h - \", times[1][0:5],\"h\")"
   ]
  },
  {
   "cell_type": "markdown",
   "id": "6a317b2c",
   "metadata": {},
   "source": [
    "### Code cleaning \n",
    "Odd pattern to select the rightcourses, how to abstract the pattern for each class?"
   ]
  },
  {
   "cell_type": "code",
   "execution_count": 111,
   "id": "f5b37258",
   "metadata": {},
   "outputs": [
    {
     "name": "stdout",
     "output_type": "stream",
     "text": [
      "HORÁRIO - 1o semetre, Turismo\n",
      "CEFET/RJ - Campus Petrópolis\n",
      "\n",
      "Segunda-feira\n",
      "18:30 h -  20:00 h  =>  RECREAÇÃO E LAZER\n",
      "20:15 h -  22:30 h  =>  INTRODUÇÃO À ADMINISTRAÇÃO\n",
      "Terça-feira\n",
      "18:30 h -  21:00 h  =>  PRÁTICAS TEXTUAIS EM LÍNGUA PORTUGUESA\n",
      "21:00 h -  22:30 h  =>  TEORIA GERAL DO TURISMO I\n",
      "Quarta-feira\n",
      "18:30 h -  21:00 h  =>  HISTÓRIA REGIONAL\n",
      "21:00 h -  22:30 h  =>  TEORIA GERAL DO TURISMO I\n",
      "Quinta-feira\n",
      "18:30 h -  20:00 h  =>  GEOGRAFIA APLICADA AO TURISMO\n",
      "20:15 h -  22:30 h  =>  HISTÓRIA DA ARTE I\n",
      "Sexta-feira\n",
      "18:30 h -  19:15 h  =>  RECREAÇÃO E LAZER\n",
      "19:15 h -  20:00 h  =>  INTRODUÇÃO À ADMINISTRAÇÃO\n",
      "Sábado\n",
      "09:00 h -  10:30 h  =>  GEOGRAFIA APLICADA AO TURISMO\n",
      "10:30 h -  11:15 h  =>  HISTÓRIA DA ARTE I\n",
      "\n",
      "DETALHES DAS DISCIPLINAS:\n",
      "========================\n",
      "\n",
      "GEOGRAFIA APLICADA AO TURISMO\n",
      "AIXA TERESINHA MELO DE OLIVEIRA\n",
      " -  Quinta-feira  -  18:30: h -  20:00 h\n",
      " -  Sábado  -  09:00: h -  10:30 h\n",
      "\n",
      "HISTÓRIA DA ARTE I\n",
      "LUDMILA VARGAS ALMENDRA\n",
      " -  Quinta-feira  -  20:15: h -  22:30 h\n",
      " -  Sábado  -  10:30: h -  11:15 h\n",
      "\n",
      "HISTÓRIA REGIONAL\n",
      "NARA MARIA CARLOS DE SANTANA\n",
      " -  Quarta-feira  -  18:30: h -  21:00 h\n",
      "\n",
      "INTRODUÇÃO À ADMINISTRAÇÃO\n",
      "ROBERTA DALVO PEREIRA DA CONCEICAO\n",
      " -  Segunda-feira  -  20:15: h -  22:30 h\n",
      " -  Sexta-feira  -  19:15: h -  20:00 h\n",
      "\n",
      "PRÁTICAS TEXTUAIS EM LÍNGUA PORTUGUESA\n",
      "LUCIANA DE MESQUITA SILVA\n",
      " -  Terça-feira  -  18:30: h -  21:00 h\n",
      "\n",
      "RECREAÇÃO E LAZER\n",
      "ALEXANDRA MARIA DE ABREU ROCHA\n",
      " -  Segunda-feira  -  18:30: h -  20:00 h\n",
      " -  Sexta-feira  -  18:30: h -  19:15 h\n",
      "\n",
      "TEORIA GERAL DO TURISMO I\n",
      "MARCELO AUGUSTO MASCARENHAS\n",
      " -  Terça-feira  -  21:00: h -  22:30 h\n",
      " -  Quarta-feira  -  21:00: h -  22:30 h\n",
      "\n"
     ]
    }
   ],
   "source": [
    "weekdays=[]\n",
    "timetable={}\n",
    "course_list=[]    \n",
    "#print(len(course_list), len(weekdays), timetable)\n",
    "\n",
    "for course_line in course_data.values:   \n",
    "    valid_course = course_line[1].find('GTURPE11')\n",
    "    if valid_course == -1:\n",
    "        valid_course = course_line[1].find('BTURPE5131')        \n",
    "\n",
    "    if valid_course >= 0:\n",
    "            current_course = config_course(course_list, course_line)\n",
    "            new_entry = {\"course\": current_course, \"time\":[course_line[4], course_line[5]]}\n",
    "\n",
    "            try: #hasattr not working here!\n",
    "                timetable[course_line[3]].append(new_entry) \n",
    "            except KeyError:\n",
    "                timetable[course_line[3]] = [];\n",
    "                timetable[course_line[3]].append(new_entry)\n",
    "\n",
    "            if (course_line[3] not in weekdays):\n",
    "                weekdays.append(course_line[3]);\n",
    "\n",
    "print(\"HORÁRIO - 1o semetre, Turismo\\nCEFET/RJ - Campus Petrópolis\\n\")\n",
    "show_timetable()                                                   \n",
    "print(\"\\nDETALHES DAS DISCIPLINAS:\")\n",
    "print(\"========================\\n\")\n",
    "show_courses(course_list)\n"
   ]
  },
  {
   "cell_type": "code",
   "execution_count": null,
   "id": "956f1907",
   "metadata": {},
   "outputs": [],
   "source": []
  },
  {
   "cell_type": "code",
   "execution_count": null,
   "id": "bbecd27f",
   "metadata": {},
   "outputs": [],
   "source": []
  }
 ],
 "metadata": {
  "kernelspec": {
   "display_name": "Python 3 (ipykernel)",
   "language": "python",
   "name": "python3"
  },
  "language_info": {
   "codemirror_mode": {
    "name": "ipython",
    "version": 3
   },
   "file_extension": ".py",
   "mimetype": "text/x-python",
   "name": "python",
   "nbconvert_exporter": "python",
   "pygments_lexer": "ipython3",
   "version": "3.9.7"
  }
 },
 "nbformat": 4,
 "nbformat_minor": 5
}
