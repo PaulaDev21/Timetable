{
 "cells": [
  {
   "cell_type": "code",
   "execution_count": 6,
   "id": "a561b1f9",
   "metadata": {},
   "outputs": [
    {
     "name": "stdout",
     "output_type": "stream",
     "text": [
      "Index(['N° da \\nTurma', 'Codigo \\nDisciplina', 'Disciplina', 'Dia da \\nsemana',\n",
      "       'Inicio', 'Termino', 'DOCENTE'],\n",
      "      dtype='object')\n"
     ]
    }
   ],
   "source": [
    "import pandas as pd\n",
    "import xlwt\n",
    "import openpyxl\n",
    "import os\n",
    "\n",
    "course_data = pd.read_csv(\"turismo-disciplinas.csv\", encoding=\"latin1\", delimiter=\";\", usecols=[2,3,4,5,6,7,8])\n",
    "print(course_data.columns)\n"
   ]
  },
  {
   "cell_type": "code",
   "execution_count": 9,
   "id": "c0577e18",
   "metadata": {},
   "outputs": [],
   "source": [
    "def config_course(course_basics):\n",
    "    added = False\n",
    "    for course in course_basics:\n",
    "        if hasattr(course,\"name\") and course[\"name\"] == course_line[2]:\n",
    "            if hasattr(course,\"time\"):\n",
    "                #course[\"times\"] += [weekday, [course_line[4], course_line[5]]]\n",
    "                added = True\n",
    "            else:                \n",
    "                #course[\"times\"] = []+[weekday, [course_line[4], course_line[5]]]\n",
    "                added = True\n",
    "            return course\n",
    "        \n",
    "    if (not added):\n",
    "        new_course = {};\n",
    "        new_course[\"name\"] = course_line[2]\n",
    "        new_course[\"professor\"] = course_line[6]\n",
    "        #new_course[\"times\"] = []+[course_line[3], [course_line[4], course_line[5]]]\n",
    "        \n",
    "        course_basics += new_course\n",
    "        return new_course\n",
    "     "
   ]
  },
  {
   "cell_type": "code",
   "execution_count": 62,
   "id": "a2d0c19b",
   "metadata": {},
   "outputs": [],
   "source": [
    "weekdays=[];\n",
    "\n",
    "def sort_by_time(day):\n",
    "    beginTimes=[];\n",
    "    for course in day:\n",
    "        beginTimes.append([course[\"time\"], course[\"course\"][\"name\"]])\n",
    "    return sorted(beginTimes)  \n",
    "        \n",
    "def show_time(interval):\n",
    "    str = ''\n",
    "    for value in interval:\n",
    "        str = str + \" - \" + value\n",
    "    return str\n",
    "    \n",
    "def show_timetable(): \n",
    "    \n",
    "    sorted_days = sorted(weekdays)\n",
    "    for day in sorted_days:\n",
    "        print(day[4:])\n",
    "        sorted_entries = sort_by_time(timetable[day])\n",
    "        for entry in sorted_entries:  \n",
    "            print(show_time(entry[0])+ \" \" + entry[1])\n",
    "\n",
    "   "
   ]
  },
  {
   "cell_type": "code",
   "execution_count": 63,
   "id": "0cd28e70",
   "metadata": {},
   "outputs": [
    {
     "name": "stdout",
     "output_type": "stream",
     "text": [
      "Segunda-feira\n",
      " - 18:30:00 - 20:00:00 RECREAÇÃO E LAZER\n",
      " - 20:15:00 - 22:30:00 INTRODUÇÃO À ADMINISTRAÇÃO\n",
      "Terça-feira\n",
      " - 18:30:00 - 21:00:00 PRÁTICAS TEXTUAIS EM LÍNGUA PORTUGUESA\n",
      " - 21:00:00 - 22:30:00 TEORIA GERAL DO TURISMO I\n",
      "Quarta-feira\n",
      " - 18:30:00 - 21:00:00 HISTÓRIA REGIONAL\n",
      " - 21:00:00 - 22:30:00 TEORIA GERAL DO TURISMO I\n",
      "Quinta-feira\n",
      " - 18:30:00 - 20:00:00 GEOGRAFIA APLICADA AO TURISMO\n",
      " - 20:15:00 - 22:30:00 HISTÓRIA DA ARTE I\n",
      "Sexta-feira\n",
      " - 18:30:00 - 19:15:00 RECREAÇÃO E LAZER\n",
      " - 19:15:00 - 20:00:00 INTRODUÇÃO À ADMINISTRAÇÃO\n",
      "Sábado\n",
      " - 09:00:00 - 10:30:00 GEOGRAFIA APLICADA AO TURISMO\n",
      " - 10:30:00 - 11:15:00 HISTÓRIA DA ARTE I\n"
     ]
    }
   ],
   "source": [
    "timetable={}\n",
    "course_basics=[];\n",
    "\n",
    "for course_line in course_data.values:   \n",
    "    valid_course = course_line[1].find('GTURPE11')\n",
    "    if valid_course == -1:\n",
    "        valid_course = course_line[1].find('BTURPE5131')        \n",
    "        \n",
    "    if valid_course >= 0:\n",
    "            current_course = config_course(course_basics)\n",
    "            new_entry = {\"course\": current_course, \"time\":[course_line[4], course_line[5]]}\n",
    "            \n",
    "            try: #hasattr not working here!\n",
    "                timetable[course_line[3]].append(new_entry) \n",
    "            except KeyError:\n",
    "                timetable[course_line[3]] = [];\n",
    "                timetable[course_line[3]].append(new_entry)\n",
    "            \n",
    "            if (course_line[3] not in weekdays):\n",
    "                weekdays.append(course_line[3]);\n",
    "show_timetable()                                                   \n"
   ]
  },
  {
   "cell_type": "code",
   "execution_count": null,
   "id": "a2ebb910",
   "metadata": {},
   "outputs": [],
   "source": []
  }
 ],
 "metadata": {
  "kernelspec": {
   "display_name": "Python 3 (ipykernel)",
   "language": "python",
   "name": "python3"
  },
  "language_info": {
   "codemirror_mode": {
    "name": "ipython",
    "version": 3
   },
   "file_extension": ".py",
   "mimetype": "text/x-python",
   "name": "python",
   "nbconvert_exporter": "python",
   "pygments_lexer": "ipython3",
   "version": "3.9.7"
  }
 },
 "nbformat": 4,
 "nbformat_minor": 5
}
