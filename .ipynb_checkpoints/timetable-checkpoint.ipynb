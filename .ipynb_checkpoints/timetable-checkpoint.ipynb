{
 "cells": [
  {
   "cell_type": "markdown",
   "id": "ea43301b",
   "metadata": {},
   "source": [
    "# Getting a timetable & courses info from a messy table\n",
    "\n",
    "## Loading data from csv file"
   ]
  },
  {
   "cell_type": "code",
   "execution_count": 67,
   "id": "a561b1f9",
   "metadata": {},
   "outputs": [
    {
     "name": "stdout",
     "output_type": "stream",
     "text": [
      "2022-03-31 21:23:28.208873\n"
     ]
    }
   ],
   "source": [
    "import pandas as pd\n",
    "import xlwt\n",
    "import openpyxl\n",
    "import os\n",
    "from datetime import datetime as dt\n",
    "\n",
    "course_data = pd.read_csv(\"turismo-disciplinas.csv\", encoding=\"latin1\", delimiter=\";\", usecols=[2,3,4,5,6,7,8])\n",
    "print(dt.now())"
   ]
  },
  {
   "cell_type": "markdown",
   "id": "6a317b2c",
   "metadata": {},
   "source": [
    "## Code cleaning & Structuring Data\n",
    "Odd pattern to select the right courses, how to abstract the pattern for each class?\n",
    "! GLOBALS - needs refactoring into a class!"
   ]
  },
  {
   "cell_type": "code",
   "execution_count": 71,
   "id": "f5b37258",
   "metadata": {},
   "outputs": [
    {
     "name": "stdout",
     "output_type": "stream",
     "text": [
      "2022-03-31 21:25:06.687646\n"
     ]
    }
   ],
   "source": [
    "weekdays=[]\n",
    "timetable={}\n",
    "course_list=[]    \n",
    "\n",
    "for course_line in course_data.values:   \n",
    "    valid_course = course_line[1].find('GTURPE11')\n",
    "    if valid_course == -1:\n",
    "        valid_course = course_line[1].find('BTURPE5131')        \n",
    "\n",
    "    if valid_course >= 0:\n",
    "            current_course = config_course(course_list, course_line)\n",
    "            new_entry = {\"course\": current_course, \"time\":[course_line[4], course_line[5]]}\n",
    "\n",
    "            try: #hasattr not working here!\n",
    "                timetable[course_line[3]].append(new_entry) \n",
    "            except KeyError:\n",
    "                timetable[course_line[3]] = [];\n",
    "                timetable[course_line[3]].append(new_entry)\n",
    "\n",
    "            if (course_line[3] not in weekdays):\n",
    "                weekdays.append(course_line[3]);       \n",
    "\n",
    "print(dt.now())"
   ]
  },
  {
   "cell_type": "markdown",
   "id": "53fb59da",
   "metadata": {},
   "source": [
    "### Configuring course data in dictionary\n",
    "Some javascript-like code here... (better - creating a class and a constructor)"
   ]
  },
  {
   "cell_type": "code",
   "execution_count": 65,
   "id": "c0577e18",
   "metadata": {},
   "outputs": [
    {
     "name": "stdout",
     "output_type": "stream",
     "text": [
      "2022-03-31 21:23:20.264399\n"
     ]
    }
   ],
   "source": [
    "def config_course(course_list, course_line):\n",
    "    added = False\n",
    "    for course in course_list:\n",
    "        try:\n",
    "            if course[\"name\"] == course_line[2]:\n",
    "                course[\"times\"].append([course_line[3], [course_line[4], course_line[5]]]) \n",
    "                added = True\n",
    "                return course\n",
    "        except TypeError:\n",
    "            continue            \n",
    "        \n",
    "    if (not added):\n",
    "        new_course = {};\n",
    "        new_course[\"name\"] = course_line[2]\n",
    "        new_course[\"professor\"] = course_line[6]\n",
    "        new_course[\"times\"] = []+[[course_line[3], [course_line[4], course_line[5]]]]\n",
    "\n",
    "        course_list.append(new_course)\n",
    "        return new_course\n",
    "    \n",
    "print(dt.now())"
   ]
  },
  {
   "cell_type": "markdown",
   "id": "5b0cfb7d",
   "metadata": {},
   "source": [
    "## Publishing Results"
   ]
  },
  {
   "cell_type": "code",
   "execution_count": 80,
   "id": "ab187382",
   "metadata": {},
   "outputs": [
    {
     "name": "stdout",
     "output_type": "stream",
     "text": [
      "2022-03-31 21:34:04.469566\n"
     ]
    }
   ],
   "source": [
    "page = create_html(course_list)\n",
    "\n",
    "file = open('timetable.html','w')\n",
    "file.write(page)\n",
    "file.close()\n",
    "\n",
    "print(dt.now())"
   ]
  },
  {
   "cell_type": "markdown",
   "id": "a8642b84",
   "metadata": {},
   "source": [
    "## Output"
   ]
  },
  {
   "cell_type": "markdown",
   "id": "f28fb53c",
   "metadata": {},
   "source": [
    "### HTML page "
   ]
  },
  {
   "cell_type": "code",
   "execution_count": 79,
   "id": "956f1907",
   "metadata": {},
   "outputs": [
    {
     "name": "stdout",
     "output_type": "stream",
     "text": [
      "2022-03-31 21:34:00.179609\n"
     ]
    }
   ],
   "source": [
    "def create_html(course_list):\n",
    "    str_html = \"<html>\\n\"\n",
    "    str_html += \"<h1>HORÁRIO - 1o semetre/2022 - Turismo</h1>\\n\"\n",
    "    str_html += \"<h2>CEFET/RJ - Campus Petrópolis</h2>\\n\"\n",
    "    str_html += show_timetable() + \"<p></p>\\n\"\n",
    "    str_html += '<hr />'\n",
    "    str_html += '<h2> Detalhes das Disciplinas </h2>\\n'\n",
    "    str_html += show_courses(course_list)\n",
    "    str_html += \"</html>\\n\"\n",
    "    return str_html\n",
    "\n",
    "print(dt.now())"
   ]
  },
  {
   "cell_type": "markdown",
   "id": "58aa20cb",
   "metadata": {},
   "source": [
    "## Printing details"
   ]
  },
  {
   "cell_type": "code",
   "execution_count": 73,
   "id": "673ab420",
   "metadata": {},
   "outputs": [
    {
     "name": "stdout",
     "output_type": "stream",
     "text": [
      "2022-03-31 21:28:44.736219\n"
     ]
    }
   ],
   "source": [
    "def show_timetable():     \n",
    "    sorted_days = sorted(weekdays)\n",
    "    days_courses=''\n",
    "    for day in sorted_days:\n",
    "        days_courses += '<h3>' + day[4:] + '</h3>\\n'\n",
    "        sorted_entries = sort_by_time(timetable[day])\n",
    "        all_times = \"<ul>\\n\"\n",
    "        for entry in sorted_entries:  \n",
    "            all_times += \"<li>\" + show_time_course(entry) + \"</li>\\n\"\n",
    "        all_times += \"</ul>\\n\"\n",
    "        days_courses += all_times + \"\\n\" \n",
    "    return days_courses  + '\\n'\n",
    "\n",
    "\n",
    "def show_courses(course_list):\n",
    "    course_details = '' \n",
    "    for course in course_list:\n",
    "        course_details += '<h3>' + course[\"name\"] + '</h3>' + '\\n'\n",
    "        course_details += \"<p> Professor(a): \" + course[\"professor\"] + \"</p>\\n\"        \n",
    "        course_details += '<ul>'\n",
    "        for day in course[\"times\"]:\n",
    "            course_details += \"<li>\" + print_time_entry(day) + \"</li>\\n\"  \n",
    "        course_details += '</ul>'  \n",
    "    return course_details \n",
    "\n",
    "\n",
    "def sort_by_time(day):\n",
    "    beginTimes=[];\n",
    "    for course in day:\n",
    "        beginTimes.append([course[\"time\"], course[\"course\"][\"name\"]])\n",
    "    return sorted(beginTimes)  \n",
    "        \n",
    "    \n",
    "def show_time_course(time_course):\n",
    "    interval = time_course[0]\n",
    "    return interval[0][0:5] + \"h - \" + interval[1][0:5] + \"h  => \" + time_course[1]\n",
    "        \n",
    "        \n",
    "def print_time_entry(day_time):\n",
    "    weekday = day_time[0][4:]\n",
    "    times = day_time[1]\n",
    "    time_entry = ''\n",
    "    return time_entry + weekday + \" - \" + times[0][0:6] + \"h - \" + times[1][0:5] + \"h\" + '\\n'\n",
    "    \n",
    "    \n",
    "print(dt.now())"
   ]
  },
  {
   "cell_type": "code",
   "execution_count": null,
   "id": "bbecd27f",
   "metadata": {},
   "outputs": [],
   "source": []
  }
 ],
 "metadata": {
  "kernelspec": {
   "display_name": "Python 3 (ipykernel)",
   "language": "python",
   "name": "python3"
  },
  "language_info": {
   "codemirror_mode": {
    "name": "ipython",
    "version": 3
   },
   "file_extension": ".py",
   "mimetype": "text/x-python",
   "name": "python",
   "nbconvert_exporter": "python",
   "pygments_lexer": "ipython3",
   "version": "3.9.7"
  }
 },
 "nbformat": 4,
 "nbformat_minor": 5
}
