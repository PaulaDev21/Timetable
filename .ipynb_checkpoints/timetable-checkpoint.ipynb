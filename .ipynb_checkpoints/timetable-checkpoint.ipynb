{
 "cells": [
  {
   "cell_type": "code",
   "execution_count": 49,
   "id": "a561b1f9",
   "metadata": {},
   "outputs": [
    {
     "name": "stdout",
     "output_type": "stream",
     "text": [
      "    N° da \\nTurma Codigo \\nDisciplina  \\\n",
      "0            1335          BTURPE5135   \n",
      "1            1335          BTURPE5135   \n",
      "2            1337          BTURPE5137   \n",
      "3            1330          BTURPE5130   \n",
      "4            1418          BTURPE5118   \n",
      "..            ...                 ...   \n",
      "303        LM3807          GMAT8307PE   \n",
      "304        LM3807          GMAT8307PE   \n",
      "305        LM3808          GMAT8308PE   \n",
      "306          1645          GTURPE1645   \n",
      "307          1644          GTURPE1644   \n",
      "\n",
      "                                    Disciplina    Dia da \\nsemana    Inicio  \\\n",
      "0           AGENCIAMENTO E OPERAÇÃO DE VIAGENS   4 - Quarta-feira  21:00:00   \n",
      "1           AGENCIAMENTO E OPERAÇÃO DE VIAGENS         7 - Sábado  09:45:00   \n",
      "2                        ANTROPOLOGIA CULTURAL    3 - Terça-feira  18:30:00   \n",
      "3                                  CARTOGRAFIA    6 - Sexta-feira  20:15:00   \n",
      "4            CERIMONIAL E PROTOCOLO EM EVENTOS  2 - Segunda-feira  18:30:00   \n",
      "..                                         ...                ...       ...   \n",
      "303  OFICINA DE PROJETO DE ENSINO DE GEOMETRIA    3 - Terça-feira  20:15:00   \n",
      "304  OFICINA DE PROJETO DE ENSINO DE GEOMETRIA    6 - Sexta-feira  20:15:00   \n",
      "305          TRIGONOMETRIA E NÚMEROS COMPLEXOS  2 - Segunda-feira  17:45:00   \n",
      "306                     ESTÁGIO SUPERVISIONADO                NaN       NaN   \n",
      "307                              PROJETO FINAL                NaN       NaN   \n",
      "\n",
      "      Termino                          DOCENTE  \n",
      "0    22:30:00        RAFAEL TEIXEIRA DE CASTRO  \n",
      "1    10:30:00        RAFAEL TEIXEIRA DE CASTRO  \n",
      "2    21:00:00               CELSO BRAGA JUNIOR  \n",
      "3    21:45:00  AIXA TERESINHA MELO DE OLIVEIRA  \n",
      "4    21:00:00           JARLENE RODRIGUES REIS  \n",
      "..        ...                              ...  \n",
      "303  22:30:00            THIAGO BRANAS DE MELO  \n",
      "304  21:45:00            THIAGO BRANAS DE MELO  \n",
      "305  20:00:00        WELERSON FERNANDES KNEIPP  \n",
      "306       NaN      MARCELO AUGUSTO MASCARENHAS  \n",
      "307       NaN        RAFAEL TEIXEIRA DE CASTRO  \n",
      "\n",
      "[308 rows x 7 columns]\n"
     ]
    }
   ],
   "source": [
    "import pandas as pd\n",
    "import xlwt\n",
    "import openpyxl\n",
    "import os\n",
    "\n",
    "coursedata = pd.read_csv(\"turismo-disciplinas.csv\", encoding=\"latin1\", delimiter=\";\", usecols=[2,3,4,5,6,7,8])\n",
    "print(coursedata)\n"
   ]
  },
  {
   "cell_type": "code",
   "execution_count": 125,
   "id": "5dc5fb0c",
   "metadata": {},
   "outputs": [
    {
     "name": "stdout",
     "output_type": "stream",
     "text": [
      "5 - Quinta-feira\n",
      "7 - Sábado\n",
      "5 - Quinta-feira\n",
      "7 - Sábado\n",
      "4 - Quarta-feira\n",
      "2 - Segunda-feira\n",
      "6 - Sexta-feira\n",
      "3 - Terça-feira\n",
      "2 - Segunda-feira\n",
      "6 - Sexta-feira\n",
      "{'5 - Quinta-feira': {'course': 'HISTÓRIA DA ARTE I', 'time': ['20:15:00', '22:30:00']}, '7 - Sábado': {'course': 'HISTÓRIA DA ARTE I', 'time': ['10:30:00', '11:15:00']}, '4 - Quarta-feira': {'course': 'HISTÓRIA REGIONAL', 'time': ['18:30:00', '21:00:00']}, '2 - Segunda-feira': {'course': 'RECREAÇÃO E LAZER', 'time': ['18:30:00', '20:00:00']}, '6 - Sexta-feira': {'course': 'RECREAÇÃO E LAZER', 'time': ['18:30:00', '19:15:00']}, '3 - Terça-feira': {'course': 'PRÁTICAS TEXTUAIS EM LÍNGUA PORTUGUESA', 'time': ['18:30:00', '21:00:00']}}\n"
     ]
    }
   ],
   "source": [
    "\n",
    "linenumber=0\n",
    "timetable={}\n",
    "\n",
    "for courseinfo in coursedata.values:   \n",
    "    posit = courseinfo[1].find('GTURPE11')\n",
    "    if courseinfo[1].find('GTURPE11') >= 0 or courseinfo[1].find('BTURPE5131') >= 0:\n",
    "        if courseinfo[1].find('GTURPE1101') < 0:\n",
    "            if hasattr(timetable, courseinfo[3]):   \n",
    "                timetable[courseinfo[3]][\"course\"] = courseinfo[2]\n",
    "                timetable[courseinfo[3]][\"time\"] += [courseinfo[4], courseinfo[5]]\n",
    "            else:\n",
    "                print(courseinfo[3])\n",
    "                timetable[courseinfo[3]]={};\n",
    "                timetable[courseinfo[3]][\"course\"] = courseinfo[2]\n",
    "                timetable[courseinfo[3]][\"time\"] = [courseinfo[4], courseinfo[5]]\n",
    "    linenumber += 1    \n",
    "print(timetable)"
   ]
  },
  {
   "cell_type": "code",
   "execution_count": null,
   "id": "c0577e18",
   "metadata": {},
   "outputs": [],
   "source": []
  },
  {
   "cell_type": "code",
   "execution_count": null,
   "id": "a2d0c19b",
   "metadata": {},
   "outputs": [],
   "source": []
  }
 ],
 "metadata": {
  "kernelspec": {
   "display_name": "Python 3 (ipykernel)",
   "language": "python",
   "name": "python3"
  },
  "language_info": {
   "codemirror_mode": {
    "name": "ipython",
    "version": 3
   },
   "file_extension": ".py",
   "mimetype": "text/x-python",
   "name": "python",
   "nbconvert_exporter": "python",
   "pygments_lexer": "ipython3",
   "version": "3.9.7"
  }
 },
 "nbformat": 4,
 "nbformat_minor": 5
}
